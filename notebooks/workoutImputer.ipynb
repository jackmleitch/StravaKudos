{
 "cells": [
  {
   "cell_type": "code",
   "execution_count": null,
   "source": [
    "import numpy as np\n",
    "import pandas as pd\n",
    "import re\n",
    "import sys\n",
    "import os\n",
    "\n",
    "from sklearn.impute import SimpleImputer \n",
    "from sklearn.model_selection import train_test_split, StratifiedShuffleSplit\n",
    "from sklearn.preprocessing import StandardScaler, Normalizer\n",
    "from pycaret.classification import *\n",
    "\n",
    "sys.path.append('..')\n",
    "from src import config\n",
    "\n",
    "if sys.platform == 'linux':\n",
    "    path = config.LINUX_PATH\n",
    "else:\n",
    "    path = config.OS_PATH\n",
    "os.chdir(path)\n",
    "\n",
    "def race_heuristic(strava_caption, workout_type):\n",
    "    strava_caption = str(strava_caption)\n",
    "    if re.findall(r\"\\b\\d+th|\\d+st|\\d+rd|\\d+nd\\b\", strava_caption):\n",
    "        return 1\n",
    "    else:\n",
    "        return workout_type\n",
    "\n",
    "mapping = {0: 'easy_run', 1: 'race', 2: 'long_run', 3: 'workout'}"
   ],
   "outputs": [],
   "metadata": {}
  },
  {
   "cell_type": "code",
   "execution_count": null,
   "source": [
    "# load in preprocessed data\n",
    "data_path = config.STRAVA_TRAIN_PATH\n",
    "data = pd.read_csv(data_path, index_col=0)\n",
    "\n",
    "# apply race heuristics\n",
    "data['workout_type'] = data.apply(lambda row: race_heuristic(row['name'], row['workout_type']), axis=1)\n",
    "data_race = data[data['workout_type'] == 1]\n",
    "data = data[data['workout_type'] != 1]\n",
    "\n",
    "# train and test set for workout classifier\n",
    "data_missing_ix = data[data[\"workout_type\"].isnull()].index\n",
    "data_full = data[~data.index.isin(data_missing_ix)]\n",
    "data_missing = data[data.index.isin(data_missing_ix)]\n",
    "\n",
    "# get columns that are useful for classifying workout_type\n",
    "cols = ['workout_type', 'distance', 'moving_time', 'elapsed_time', 'average_speed', 'max_speed', 'average_heartrate', 'max_heartrate']\n",
    "data_full = data_full[cols]\n",
    "data_full = data_full.reset_index(drop=True)\n",
    "data_missing = data_missing[cols]\n",
    "\n",
    "# check class imbalance of workout_type\n",
    "# print(\"Class imbalance: \\n\", data_full.workout_type.value_counts() / data_full.shape[0])\n",
    "X, y = data_full.drop('workout_type', axis=1), data_full.workout_type\n",
    "X_train, X_test, y_train, y_test = train_test_split(X, y, stratify=y, test_size=0.25)\n",
    "\n",
    "\n",
    "# impute missing values into columns of data using strategy mean \n",
    "cols_to_imp = [col for col in cols if col not in ['workout_type']]\n",
    "impute_mean = SimpleImputer(missing_values=np.nan, strategy='mean')\n",
    "impute_mean = impute_mean.fit(X_train)\n",
    "\n",
    "X_train = impute_mean.transform(X_train)\n",
    "X_test = impute_mean.transform(X_test)\n",
    "\n",
    "\n",
    "# scale the data using normalizer or std scaler\n",
    "def scale_num_data(X_train, X_test, normalizer=False):\n",
    "    if normalizer:\n",
    "        scaler = Normalizer().fit(X_train)\n",
    "    else:\n",
    "        scaler = StandardScaler().fit(X_train)\n",
    "    X_train = scaler.transform(X_train)\n",
    "    X_test = scaler.transform(X_test)\n",
    "    return X_train, X_test\n",
    "X_train, X_test = scale_num_data(X_train, X_test)"
   ],
   "outputs": [],
   "metadata": {}
  },
  {
   "cell_type": "code",
   "execution_count": null,
   "source": [
    "clf = setup(data=data_full, target='workout_type') #, fold_shuffle=True, imputation_type='iterative')\n",
    "best = compare_models()"
   ],
   "outputs": [],
   "metadata": {}
  },
  {
   "cell_type": "code",
   "execution_count": null,
   "source": [
    "model = create_model('lr')\n",
    "# plot_model(model, 'confusion_matrix')\n",
    "finalize_model(model)\n",
    "save_model(model, 'models/workoutImputer')\n"
   ],
   "outputs": [],
   "metadata": {}
  }
 ],
 "metadata": {
  "interpreter": {
   "hash": "d4c872312dddd914e497dd135054c007a1342fab994b7ff43dc3e917815552f6"
  },
  "kernelspec": {
   "name": "python3",
   "display_name": "Python 3.9.5 64-bit ('pycaret': conda)"
  },
  "language_info": {
   "name": "python",
   "version": "3.9.5",
   "mimetype": "text/x-python",
   "codemirror_mode": {
    "name": "ipython",
    "version": 3
   },
   "pygments_lexer": "ipython3",
   "nbconvert_exporter": "python",
   "file_extension": ".py"
  },
  "orig_nbformat": 4
 },
 "nbformat": 4,
 "nbformat_minor": 2
}