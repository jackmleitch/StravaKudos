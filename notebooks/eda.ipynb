{
 "metadata": {
  "language_info": {
   "codemirror_mode": {
    "name": "ipython",
    "version": 3
   },
   "file_extension": ".py",
   "mimetype": "text/x-python",
   "name": "python",
   "nbconvert_exporter": "python",
   "pygments_lexer": "ipython3",
   "version": "3.8.3"
  },
  "orig_nbformat": 4,
  "kernelspec": {
   "name": "python3",
   "display_name": "Python 3.8.3 64-bit ('3.8')"
  },
  "interpreter": {
   "hash": "082e9a3bcad0a290d0001e938aa60b99250c6c2ef33a923c00b70f9826caf4b7"
  }
 },
 "nbformat": 4,
 "nbformat_minor": 2,
 "cells": [
  {
   "cell_type": "code",
   "execution_count": 1,
   "metadata": {},
   "outputs": [],
   "source": [
    "import numpy as np \n",
    "import pandas as pd\n",
    "import matplotlib.pyplot as plt \n",
    "import sys"
   ]
  },
  {
   "cell_type": "code",
   "execution_count": 2,
   "metadata": {},
   "outputs": [],
   "source": [
    "sys.path.append('..')\n",
    "from src import config"
   ]
  },
  {
   "cell_type": "code",
   "execution_count": 3,
   "metadata": {},
   "outputs": [
    {
     "output_type": "execute_result",
     "data": {
      "text/plain": [
       "                               name  distance  moving_time  elapsed_time  \\\n",
       "310                    Yeaaaaa nice   22014.6       5432.0        5735.0   \n",
       "311  Legs felt lovely this evening     8564.9       2062.0        2125.0   \n",
       "312                              😺😺   16133.2       4012.0        4347.0   \n",
       "313                    A mixed bag     5358.9       1470.0        1830.0   \n",
       "314      6 x 3 mins [2 min float] 🌬    9134.6       1803.0        1803.0   \n",
       "\n",
       "     total_elevation_gain  workout_type            start_date  \\\n",
       "310                 158.9           0.0  2021-01-07T12:44:09Z   \n",
       "311                  49.0           0.0  2021-01-06T21:05:27Z   \n",
       "312                 156.0           0.0  2021-01-06T12:45:26Z   \n",
       "313                  18.0           0.0  2021-01-05T10:39:38Z   \n",
       "314                  55.7           3.0  2021-01-05T10:06:16Z   \n",
       "\n",
       "         start_date_local                      timezone  \\\n",
       "310  2021-01-07T07:44:09Z  (GMT-05:00) America/New_York   \n",
       "311  2021-01-06T16:05:27Z  (GMT-05:00) America/New_York   \n",
       "312  2021-01-06T07:45:26Z  (GMT-05:00) America/New_York   \n",
       "313  2021-01-05T10:39:38Z     (GMT+00:00) Europe/London   \n",
       "314  2021-01-05T10:06:16Z     (GMT+00:00) Europe/London   \n",
       "\n",
       "                start_latlng  ... athlete_count photo_count  manual  \\\n",
       "310  [42.311572, -71.240171]  ...           1.0         0.0   False   \n",
       "311  [42.311429, -71.240088]  ...           1.0         0.0   False   \n",
       "312   [42.311717, -71.24031]  ...           1.0         0.0   False   \n",
       "313   [50.852917, -0.393328]  ...           1.0         0.0   False   \n",
       "314   [50.853213, -0.392506]  ...           1.0         0.0   False   \n",
       "\n",
       "     average_speed  max_speed  average_heartrate  max_heartrate  pr_count  \\\n",
       "310          4.053        6.7              159.7          187.0       8.0   \n",
       "311          4.154        6.1              145.0          165.0       0.0   \n",
       "312          4.021        5.4              153.3          166.0       4.0   \n",
       "313          3.646        8.4              154.7          171.0       0.0   \n",
       "314          5.066        8.6              174.0          189.0       0.0   \n",
       "\n",
       "     total_photo_count  suffer_score  \n",
       "310                0.0         124.0  \n",
       "311                0.0          19.0  \n",
       "312                0.0          66.0  \n",
       "313                0.0          25.0  \n",
       "314                0.0          69.0  \n",
       "\n",
       "[5 rows x 25 columns]"
      ],
      "text/html": "<div>\n<style scoped>\n    .dataframe tbody tr th:only-of-type {\n        vertical-align: middle;\n    }\n\n    .dataframe tbody tr th {\n        vertical-align: top;\n    }\n\n    .dataframe thead th {\n        text-align: right;\n    }\n</style>\n<table border=\"1\" class=\"dataframe\">\n  <thead>\n    <tr style=\"text-align: right;\">\n      <th></th>\n      <th>name</th>\n      <th>distance</th>\n      <th>moving_time</th>\n      <th>elapsed_time</th>\n      <th>total_elevation_gain</th>\n      <th>workout_type</th>\n      <th>start_date</th>\n      <th>start_date_local</th>\n      <th>timezone</th>\n      <th>start_latlng</th>\n      <th>...</th>\n      <th>athlete_count</th>\n      <th>photo_count</th>\n      <th>manual</th>\n      <th>average_speed</th>\n      <th>max_speed</th>\n      <th>average_heartrate</th>\n      <th>max_heartrate</th>\n      <th>pr_count</th>\n      <th>total_photo_count</th>\n      <th>suffer_score</th>\n    </tr>\n  </thead>\n  <tbody>\n    <tr>\n      <th>310</th>\n      <td>Yeaaaaa nice</td>\n      <td>22014.6</td>\n      <td>5432.0</td>\n      <td>5735.0</td>\n      <td>158.9</td>\n      <td>0.0</td>\n      <td>2021-01-07T12:44:09Z</td>\n      <td>2021-01-07T07:44:09Z</td>\n      <td>(GMT-05:00) America/New_York</td>\n      <td>[42.311572, -71.240171]</td>\n      <td>...</td>\n      <td>1.0</td>\n      <td>0.0</td>\n      <td>False</td>\n      <td>4.053</td>\n      <td>6.7</td>\n      <td>159.7</td>\n      <td>187.0</td>\n      <td>8.0</td>\n      <td>0.0</td>\n      <td>124.0</td>\n    </tr>\n    <tr>\n      <th>311</th>\n      <td>Legs felt lovely this evening</td>\n      <td>8564.9</td>\n      <td>2062.0</td>\n      <td>2125.0</td>\n      <td>49.0</td>\n      <td>0.0</td>\n      <td>2021-01-06T21:05:27Z</td>\n      <td>2021-01-06T16:05:27Z</td>\n      <td>(GMT-05:00) America/New_York</td>\n      <td>[42.311429, -71.240088]</td>\n      <td>...</td>\n      <td>1.0</td>\n      <td>0.0</td>\n      <td>False</td>\n      <td>4.154</td>\n      <td>6.1</td>\n      <td>145.0</td>\n      <td>165.0</td>\n      <td>0.0</td>\n      <td>0.0</td>\n      <td>19.0</td>\n    </tr>\n    <tr>\n      <th>312</th>\n      <td>😺😺</td>\n      <td>16133.2</td>\n      <td>4012.0</td>\n      <td>4347.0</td>\n      <td>156.0</td>\n      <td>0.0</td>\n      <td>2021-01-06T12:45:26Z</td>\n      <td>2021-01-06T07:45:26Z</td>\n      <td>(GMT-05:00) America/New_York</td>\n      <td>[42.311717, -71.24031]</td>\n      <td>...</td>\n      <td>1.0</td>\n      <td>0.0</td>\n      <td>False</td>\n      <td>4.021</td>\n      <td>5.4</td>\n      <td>153.3</td>\n      <td>166.0</td>\n      <td>4.0</td>\n      <td>0.0</td>\n      <td>66.0</td>\n    </tr>\n    <tr>\n      <th>313</th>\n      <td>A mixed bag</td>\n      <td>5358.9</td>\n      <td>1470.0</td>\n      <td>1830.0</td>\n      <td>18.0</td>\n      <td>0.0</td>\n      <td>2021-01-05T10:39:38Z</td>\n      <td>2021-01-05T10:39:38Z</td>\n      <td>(GMT+00:00) Europe/London</td>\n      <td>[50.852917, -0.393328]</td>\n      <td>...</td>\n      <td>1.0</td>\n      <td>0.0</td>\n      <td>False</td>\n      <td>3.646</td>\n      <td>8.4</td>\n      <td>154.7</td>\n      <td>171.0</td>\n      <td>0.0</td>\n      <td>0.0</td>\n      <td>25.0</td>\n    </tr>\n    <tr>\n      <th>314</th>\n      <td>6 x 3 mins [2 min float] 🌬</td>\n      <td>9134.6</td>\n      <td>1803.0</td>\n      <td>1803.0</td>\n      <td>55.7</td>\n      <td>3.0</td>\n      <td>2021-01-05T10:06:16Z</td>\n      <td>2021-01-05T10:06:16Z</td>\n      <td>(GMT+00:00) Europe/London</td>\n      <td>[50.853213, -0.392506]</td>\n      <td>...</td>\n      <td>1.0</td>\n      <td>0.0</td>\n      <td>False</td>\n      <td>5.066</td>\n      <td>8.6</td>\n      <td>174.0</td>\n      <td>189.0</td>\n      <td>0.0</td>\n      <td>0.0</td>\n      <td>69.0</td>\n    </tr>\n  </tbody>\n</table>\n<p>5 rows × 25 columns</p>\n</div>"
     },
     "metadata": {},
     "execution_count": 3
    }
   ],
   "source": [
    "data_path = config.STRAVA_TRAIN_PATH\n",
    "data = pd.read_csv(data_path, index_col=0)\n",
    "data.head()"
   ]
  },
  {
   "cell_type": "code",
   "execution_count": 4,
   "metadata": {},
   "outputs": [
    {
     "output_type": "stream",
     "name": "stdout",
     "text": [
      "Size of dataframe:  (701, 25)\n"
     ]
    },
    {
     "output_type": "execute_result",
     "data": {
      "text/plain": [
       "name                     0\n",
       "distance                 0\n",
       "moving_time              0\n",
       "elapsed_time             0\n",
       "total_elevation_gain     0\n",
       "workout_type            30\n",
       "start_date               0\n",
       "start_date_local         0\n",
       "timezone                 0\n",
       "start_latlng            22\n",
       "end_latlng              22\n",
       "location_country         0\n",
       "achievement_count        0\n",
       "kudos_count              0\n",
       "comment_count            0\n",
       "athlete_count            0\n",
       "photo_count              0\n",
       "manual                   0\n",
       "average_speed            0\n",
       "max_speed                0\n",
       "average_heartrate       26\n",
       "max_heartrate           26\n",
       "pr_count                 0\n",
       "total_photo_count        0\n",
       "suffer_score            26\n",
       "dtype: int64"
      ]
     },
     "metadata": {},
     "execution_count": 4
    }
   ],
   "source": [
    "print(\"Size of dataframe: \", data.shape)\n",
    "data.isnull().sum(axis=0)"
   ]
  }
 ]
}